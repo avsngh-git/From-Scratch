{
 "cells": [
  {
   "cell_type": "code",
   "execution_count": 2,
   "id": "0ce9efe7",
   "metadata": {},
   "outputs": [],
   "source": [
    "import torch\n",
    "from torch import nn"
   ]
  },
  {
   "cell_type": "code",
   "execution_count": 3,
   "id": "bd6b073b",
   "metadata": {},
   "outputs": [],
   "source": [
    "def batch_norm(gamma, beta, x, epsilon, momentum, moving_mean, moving_var):\n",
    "\n",
    "    if not torch.is_grad_enabled(): # checking if in traning mode\n",
    "        x_hat = (x-moving_mean)/torch.sqrt(moving_var+epsilon) #if not\n",
    "\n",
    "    else:\n",
    "        assert x.dim()==2 or x.dim()==4 # input is either 2D data or 4D images with batch of images as 4th dimension\n",
    "        if x.dim() == 2:\n",
    "            mean = x.mean(dim=0)\n",
    "            var = ((x-mean)**2).mean(dim=0)\n",
    "        else:\n",
    "            mean = x.mean(dim=(0,2,3),keepdim=True) # when dim is 4, we compute mean and variance over batch and spatial dimensions\n",
    "            var = ((x-mean)**2).mean(dim=(0,2,3), keepdim=True)\n",
    "        \n",
    "        x_hat = (x-mean)/torch.sqrt(var+epsilon)\n",
    "        moving_mean = (1.0 -momentum)*mean + momentum*moving_mean # momentum ensures that moving mean and var are updated gradually\n",
    "        moving_var = (1-momentum)*var + momentum*moving_var\n",
    "    Y = gamma*x_hat+beta\n",
    "    return Y, moving_mean.detach(), moving_var.detach() # detach to avoid tracking gradients for moving mean and var\n",
    "\n"
   ]
  },
  {
   "cell_type": "code",
   "execution_count": 4,
   "id": "fc9ffef2",
   "metadata": {},
   "outputs": [],
   "source": [
    "class BatchNorm(nn.Module):\n",
    "    def __init__(self, num_features, num_dims):\n",
    "        super().__init__()\n",
    "        if num_dims ==2:\n",
    "            shape = (1, num_features)  # setup shape for proper broadcasting depending on if its a picture or a normal data\n",
    "        else:\n",
    "            shape = (1, num_features, 1, 1)\n",
    "\n",
    "        # initialize the scale and shift parameters to 1 and 0\n",
    "        # initialize them as Parameter class to tell pytorch that these are learnable parameters\n",
    "        self.gamma = nn.Parameter(torch.ones(shape))\n",
    "        self.beta = nn.Parameter(torch.zeros(shape))\n",
    "\n",
    "        # now initialize buffers for mean and var for use during inference\n",
    "        self.moving_mean = torch.zeros(shape)\n",
    "        self.moving_var = torch.ones(shape)\n",
    "\n",
    "    def forward(self, X):\n",
    "        #If X is not on the main memory\n",
    "        if self.moving_mean.device != X.device:\n",
    "            self.moving_mean = self.moving_mean.to(X.device)\n",
    "            self.moving_var = self.moving_var.to(X.device)\n",
    "\n",
    "        # Get the normalized output and save moving_mean and moving_var\n",
    "        Y, self.moving_mean, self.moving_var = batch_norm(self.gamma, self.beta, X, 1e-5, 0.9)\n",
    "        return Y"
   ]
  },
  {
   "cell_type": "code",
   "execution_count": null,
   "id": "cad966f7",
   "metadata": {},
   "outputs": [
    {
     "data": {
      "text/plain": [
       "torch.Size([2, 3, 5, 1])"
      ]
     },
     "execution_count": 11,
     "metadata": {},
     "output_type": "execute_result"
    }
   ],
   "source": [
    "class AdditiveAttention(nn.Module):\n",
    "    def __init__(self, num_hidden, dropout, **kwargs):\n",
    "        super(AdditiveAttention, self).__init__(**kwargs)\n",
    "        self.W_q = nn.LazyLinear(num_hidden)\n",
    "        self.W_k = nn.LazyLinear(num_hidden)\n",
    "        self.w_v = nn.LazyLinear(num_hidden)\n",
    "        self.dropout = dropout\n",
    "\n",
    "    def forward(self, queries, keys, values, valid_lens):\n",
    "        queries, keys = \n",
    "\n",
    "\n"
   ]
  },
  {
   "cell_type": "code",
   "execution_count": null,
   "id": "b96cafbe",
   "metadata": {},
   "outputs": [],
   "source": []
  }
 ],
 "metadata": {
  "kernelspec": {
   "display_name": "base",
   "language": "python",
   "name": "python3"
  },
  "language_info": {
   "codemirror_mode": {
    "name": "ipython",
    "version": 3
   },
   "file_extension": ".py",
   "mimetype": "text/x-python",
   "name": "python",
   "nbconvert_exporter": "python",
   "pygments_lexer": "ipython3",
   "version": "3.12.9"
  }
 },
 "nbformat": 4,
 "nbformat_minor": 5
}
